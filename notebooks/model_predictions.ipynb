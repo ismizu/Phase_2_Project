{
 "cells": [
  {
   "cell_type": "markdown",
   "metadata": {},
   "source": [
    "# Running Predictions on Unseen Data"
   ]
  },
  {
   "cell_type": "markdown",
   "metadata": {},
   "source": [
    "## Import Libraries"
   ]
  },
  {
   "cell_type": "code",
   "execution_count": 9,
   "metadata": {},
   "outputs": [],
   "source": [
    "import pandas as pd\n",
    "from pathlib import Path\n",
    "import numpy as np\n",
    "import warnings\n",
    "import pickle\n",
    "warnings.filterwarnings(\"ignore\")\n",
    "pd.set_option('display.max_columns', 300)"
   ]
  },
  {
   "cell_type": "markdown",
   "metadata": {},
   "source": [
    "## Run Data Cleaning"
   ]
  },
  {
   "cell_type": "markdown",
   "metadata": {},
   "source": [
    "The testing set must have identical data cleaning to the initial set.\n",
    "\n",
    "In order to do so, I run the same data cleaning in the cell below."
   ]
  },
  {
   "cell_type": "code",
   "execution_count": 21,
   "metadata": {},
   "outputs": [],
   "source": [
    "df_clean = pd.read_csv('../data/kc_house_data_test_features.csv', index_col = 0)\n",
    "\n",
    "# Removing the time variable from date\n",
    "df_clean['date'] = df_clean['date'].map(lambda x: x[:8])\n",
    "\n",
    "# Altering the cleaned date into datetime type\n",
    "df_clean['date'] = pd.to_datetime(df_clean['date'])\n",
    "\n",
    "#Create a filepath to the folder containing king_county data\n",
    "files = Path('../data/').rglob('king_county*.csv')\n",
    "\n",
    "#Create a list with all csv information\n",
    "    #Set zip codes as index for later concatenation\n",
    "    #Alter csv's NaN values from '0' to NaN\n",
    "all_csvs = [pd.read_csv(file,\n",
    "            index_col = 'Zip Code Tabulation Area',\n",
    "            usecols = [0,3],\n",
    "            na_values = 0,\n",
    "            skipfooter = 11)\\\n",
    "            for file in files]\n",
    "\n",
    "#Concatenate all csv's using zip code as index\n",
    "#Remove zip code as index and rename columns\n",
    "king_county_df = pd.concat(all_csvs, axis = 1).reset_index()\\\n",
    ".rename(columns = {'Zip Code Tabulation Area': 'zipcode',\n",
    "                    'Estimated number of housing units, between 2015-2019.': 'number_of_housing_units',\n",
    "                    'Estimated median value of an owner-occupied home, between 2015-2': 'median_value_occupied_home',\n",
    "                    'Estimated median income of a household, between 2015-2019.': 'household_median_income',\n",
    "                    'Estimated number of people per square mile, between 2015-2019.': 'people_per_square_mile',\n",
    "                    'Estimated percent of all people that are living in poverty as of': 'poverty_rate'})\n",
    "\n",
    "#Drop zip codes not within housing data\n",
    "king_county_df.drop(king_county_df[king_county_df['zipcode'].isin(list(df_clean['zipcode'])) != True].index,\n",
    "                    inplace = True)\n",
    "king_county_df.reset_index(drop = True, inplace = True)\n",
    "\n",
    "#Attach to main dataframe\n",
    "df_clean = df_clean.merge(king_county_df, how = 'left', on = 'zipcode')\n",
    "\n",
    "#Conditional set to 16, the 2nd largest value + 5 standard deviations\n",
    "df_clean['bedrooms'] = np.where(df_clean['bedrooms'] > 16,\n",
    "                                #Average bedrooms rounded to the nearest whole number\n",
    "                                round(df_clean['bedrooms'].mean(), 0)\n",
    "                                , df_clean['bedrooms'])\n",
    "\n",
    "#Binning grade variable\n",
    "df_clean['below_average_grade'] = np.where(df_clean['grade'] < 7, 1, 0)\n",
    "df_clean['average_grade'] = np.where(df_clean['grade'] == 7, 1, 0)\n",
    "df_clean['above_average_grade'] = np.where(df_clean['grade'].isin(range(8,11)), 1, 0)\n",
    "df_clean['high_grade'] = np.where(df_clean['grade'] > 10, 1, 0)\n",
    "\n",
    "#Binning bathroom variable\n",
    "df_clean['bath_5_plus'] = np.where(df_clean['bathrooms'] >= 5.5, 1, 0)\n",
    "df_clean['bath_3_5'] = np.where((df_clean['bathrooms'] >= 3.75) & (df_clean['bathrooms'] < 5.5), 1, 0)\n",
    "df_clean['bath_2_3'] = np.where((df_clean['bathrooms'] >= 2.75) & (df_clean['bathrooms'] < 3.75), 1, 0)\n",
    "df_clean['bath_1_2'] = np.where((df_clean['bathrooms'] >= 1.25) & (df_clean['bathrooms'] < 2.75), 1, 0)\n",
    "df_clean['bath_1_minus'] = np.where(df_clean['bathrooms'] < 1.25, 1, 0)\n",
    "\n",
    "\n",
    "#Feature interactions\n",
    "df_clean['sqft_x_median_value'] = df_clean['sqft_living'] * df_clean['median_value_occupied_home']\n",
    "df_clean['floors_x_view'] = df_clean['floors'] * df_clean['view']\n",
    "\n",
    "#Create a dummy variable to mark homes with the following conditions\n",
    "df_clean['waterfront_wealth'] = np.where((df_clean['waterfront'] == 1) &\n",
    "                                         (df_clean['long'] > -122.4) &\n",
    "                                         (df_clean['lat'] > 47.5),\n",
    "                                         1, 0)\n",
    "\n",
    "#Dummy the zipcodes\n",
    "df_clean = df_clean.merge((pd.get_dummies(df_clean['zipcode'], drop_first = True)),\n",
    "                          how = 'left', left_index = True, right_index = True)"
   ]
  },
  {
   "cell_type": "markdown",
   "metadata": {},
   "source": [
    "## Load Pickle Data"
   ]
  },
  {
   "cell_type": "markdown",
   "metadata": {},
   "source": [
    "I now load the data I previously exported."
   ]
  },
  {
   "cell_type": "code",
   "execution_count": 14,
   "metadata": {},
   "outputs": [],
   "source": [
    "infile = open(\"pickle/model.pickle\",'rb')\n",
    "model = pickle.load(infile)\n",
    "infile.close()"
   ]
  },
  {
   "cell_type": "code",
   "execution_count": 15,
   "metadata": {
    "scrolled": true
   },
   "outputs": [
    {
     "name": "stdout",
     "output_type": "stream",
     "text": [
      "103\n"
     ]
    }
   ],
   "source": [
    "#Check length to ensure it exported/loaded correctly\n",
    "print(len(model.coef_))"
   ]
  },
  {
   "cell_type": "code",
   "execution_count": 16,
   "metadata": {},
   "outputs": [],
   "source": [
    "infile = open(\"pickle/other_info.pickle\",'rb')\n",
    "other_info = pickle.load(infile)\n",
    "infile.close()"
   ]
  },
  {
   "cell_type": "code",
   "execution_count": 17,
   "metadata": {},
   "outputs": [
    {
     "data": {
      "text/plain": [
       "Index([   'bedrooms',   'bathrooms', 'sqft_living',    'sqft_lot',\n",
       "            'floors',  'waterfront',        'view',   'condition',\n",
       "             'grade',  'sqft_above',\n",
       "       ...\n",
       "               98146,         98148,         98155,         98166,\n",
       "               98168,         98177,         98178,         98188,\n",
       "               98198,         98199],\n",
       "      dtype='object', length=103)"
      ]
     },
     "execution_count": 17,
     "metadata": {},
     "output_type": "execute_result"
    }
   ],
   "source": [
    "#Brief check of columns\n",
    "other_info"
   ]
  },
  {
   "cell_type": "code",
   "execution_count": 22,
   "metadata": {},
   "outputs": [],
   "source": [
    "final_answers = model.predict(df_clean[other_info])"
   ]
  },
  {
   "cell_type": "code",
   "execution_count": 32,
   "metadata": {},
   "outputs": [
    {
     "data": {
      "text/plain": [
       "True"
      ]
     },
     "execution_count": 32,
     "metadata": {},
     "output_type": "execute_result"
    }
   ],
   "source": [
    "#Ensure number of predictions match expectations\n",
    "len(final_answers) == len(df_clean)"
   ]
  },
  {
   "cell_type": "markdown",
   "metadata": {},
   "source": [
    "Finally, I export the predictions as a csv to be checked against their actual values."
   ]
  },
  {
   "cell_type": "code",
   "execution_count": 29,
   "metadata": {},
   "outputs": [],
   "source": [
    "df_final = pd.DataFrame(final_answers)"
   ]
  },
  {
   "cell_type": "code",
   "execution_count": 30,
   "metadata": {},
   "outputs": [],
   "source": [
    "df_final.to_csv('housing_preds_isana_mizuma.csv')"
   ]
  }
 ],
 "metadata": {
  "kernelspec": {
   "display_name": "Python 3",
   "language": "python",
   "name": "python3"
  },
  "language_info": {
   "codemirror_mode": {
    "name": "ipython",
    "version": 3
   },
   "file_extension": ".py",
   "mimetype": "text/x-python",
   "name": "python",
   "nbconvert_exporter": "python",
   "pygments_lexer": "ipython3",
   "version": "3.8.5"
  }
 },
 "nbformat": 4,
 "nbformat_minor": 2
}
